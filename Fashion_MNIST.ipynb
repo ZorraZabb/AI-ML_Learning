{
 "cells": [
  {
   "cell_type": "code",
   "execution_count": 1,
   "metadata": {},
   "outputs": [],
   "source": [
    "import tensorflow as tf\n",
    "import numpy as np\n",
    "from tensorflow.keras import Sequential\n",
    "from tensorflow.keras.layers import Dense, Flatten"
   ]
  },
  {
   "cell_type": "code",
   "execution_count": 19,
   "metadata": {},
   "outputs": [
    {
     "name": "stdout",
     "output_type": "stream",
     "text": [
      "Epoch 1/50\n",
      "1875/1875 [==============================] - 5s 3ms/step - loss: 0.5000 - accuracy: 0.8242\n",
      "Epoch 2/50\n",
      "1875/1875 [==============================] - 4s 2ms/step - loss: 0.3737 - accuracy: 0.8649\n",
      "Epoch 3/50\n",
      "1875/1875 [==============================] - 5s 3ms/step - loss: 0.3369 - accuracy: 0.8757\n",
      "Epoch 4/50\n",
      "1875/1875 [==============================] - 4s 2ms/step - loss: 0.3112 - accuracy: 0.8851\n",
      "Epoch 5/50\n",
      "1875/1875 [==============================] - 4s 2ms/step - loss: 0.2971 - accuracy: 0.8899\n",
      "Epoch 6/50\n",
      "1875/1875 [==============================] - 5s 2ms/step - loss: 0.2806 - accuracy: 0.8949\n",
      "Epoch 7/50\n",
      "1875/1875 [==============================] - 4s 2ms/step - loss: 0.2667 - accuracy: 0.9019\n",
      "Epoch 8/50\n",
      "1875/1875 [==============================] - 5s 2ms/step - loss: 0.2575 - accuracy: 0.9043\n",
      "Epoch 9/50\n",
      "1875/1875 [==============================] - 4s 2ms/step - loss: 0.2473 - accuracy: 0.9082\n",
      "Epoch 10/50\n",
      "1875/1875 [==============================] - 4s 2ms/step - loss: 0.2407 - accuracy: 0.9099\n",
      "Epoch 11/50\n",
      "1875/1875 [==============================] - 4s 2ms/step - loss: 0.2317 - accuracy: 0.9137\n",
      "Epoch 12/50\n",
      "1875/1875 [==============================] - 5s 2ms/step - loss: 0.2236 - accuracy: 0.9159\n",
      "Epoch 13/50\n",
      "1875/1875 [==============================] - 5s 2ms/step - loss: 0.2156 - accuracy: 0.9189\n",
      "Epoch 14/50\n",
      "1875/1875 [==============================] - 5s 2ms/step - loss: 0.2096 - accuracy: 0.9211\n",
      "Epoch 15/50\n",
      "1875/1875 [==============================] - 4s 2ms/step - loss: 0.2023 - accuracy: 0.9242\n",
      "Epoch 16/50\n",
      "1875/1875 [==============================] - 5s 2ms/step - loss: 0.1992 - accuracy: 0.9260\n",
      "Epoch 17/50\n",
      "1875/1875 [==============================] - 5s 3ms/step - loss: 0.1943 - accuracy: 0.9270\n",
      "Epoch 18/50\n",
      "1875/1875 [==============================] - 4s 2ms/step - loss: 0.1888 - accuracy: 0.9297\n",
      "Epoch 19/50\n",
      "1875/1875 [==============================] - 5s 2ms/step - loss: 0.1833 - accuracy: 0.9322\n",
      "Epoch 20/50\n",
      "1875/1875 [==============================] - 5s 3ms/step - loss: 0.1773 - accuracy: 0.9343\n",
      "Epoch 21/50\n",
      "1875/1875 [==============================] - 5s 3ms/step - loss: 0.1740 - accuracy: 0.9343\n",
      "Epoch 22/50\n",
      "1875/1875 [==============================] - 5s 3ms/step - loss: 0.1683 - accuracy: 0.9367\n",
      "Epoch 23/50\n",
      "1875/1875 [==============================] - 5s 3ms/step - loss: 0.1660 - accuracy: 0.9374\n",
      "Epoch 24/50\n",
      "1875/1875 [==============================] - 5s 2ms/step - loss: 0.1620 - accuracy: 0.9390\n",
      "Epoch 25/50\n",
      "1875/1875 [==============================] - 5s 3ms/step - loss: 0.1565 - accuracy: 0.9412\n",
      "Epoch 26/50\n",
      "1875/1875 [==============================] - 5s 3ms/step - loss: 0.1543 - accuracy: 0.9420\n",
      "Epoch 27/50\n",
      "1875/1875 [==============================] - 5s 3ms/step - loss: 0.1503 - accuracy: 0.9432\n",
      "Epoch 28/50\n",
      "1875/1875 [==============================] - 5s 2ms/step - loss: 0.1478 - accuracy: 0.9441\n",
      "Epoch 29/50\n",
      "1875/1875 [==============================] - 5s 3ms/step - loss: 0.1438 - accuracy: 0.9458\n",
      "Epoch 30/50\n",
      "1875/1875 [==============================] - 5s 2ms/step - loss: 0.1407 - accuracy: 0.9472\n",
      "Epoch 31/50\n",
      "1875/1875 [==============================] - 5s 3ms/step - loss: 0.1378 - accuracy: 0.9487\n",
      "Epoch 32/50\n",
      "1875/1875 [==============================] - 5s 2ms/step - loss: 0.1365 - accuracy: 0.9480\n",
      "Epoch 33/50\n",
      "1875/1875 [==============================] - 4s 2ms/step - loss: 0.1343 - accuracy: 0.9491\n",
      "Epoch 34/50\n",
      "1875/1875 [==============================] - 4s 2ms/step - loss: 0.1286 - accuracy: 0.9514\n",
      "Epoch 35/50\n",
      "1875/1875 [==============================] - 4s 2ms/step - loss: 0.1278 - accuracy: 0.9521\n",
      "Epoch 36/50\n",
      "1875/1875 [==============================] - 4s 2ms/step - loss: 0.1258 - accuracy: 0.9521\n",
      "Epoch 37/50\n",
      "1875/1875 [==============================] - 4s 2ms/step - loss: 0.1208 - accuracy: 0.9548\n",
      "Epoch 38/50\n",
      "1875/1875 [==============================] - 4s 2ms/step - loss: 0.1218 - accuracy: 0.9543\n",
      "Epoch 39/50\n",
      "1875/1875 [==============================] - 4s 2ms/step - loss: 0.1175 - accuracy: 0.9558\n",
      "Epoch 40/50\n",
      "1875/1875 [==============================] - 4s 2ms/step - loss: 0.1152 - accuracy: 0.9570\n",
      "Epoch 41/50\n",
      "1875/1875 [==============================] - 4s 2ms/step - loss: 0.1124 - accuracy: 0.9571\n",
      "Epoch 42/50\n",
      "1875/1875 [==============================] - 6s 3ms/step - loss: 0.1137 - accuracy: 0.9570\n",
      "Epoch 43/50\n",
      "1875/1875 [==============================] - 6s 3ms/step - loss: 0.1082 - accuracy: 0.9592\n",
      "Epoch 44/50\n",
      "1875/1875 [==============================] - 5s 3ms/step - loss: 0.1069 - accuracy: 0.9603\n",
      "Epoch 45/50\n",
      "1875/1875 [==============================] - 4s 2ms/step - loss: 0.1054 - accuracy: 0.9608\n",
      "Epoch 46/50\n",
      "1875/1875 [==============================] - 4s 2ms/step - loss: 0.1039 - accuracy: 0.9609\n",
      "Epoch 47/50\n",
      "1875/1875 [==============================] - 4s 2ms/step - loss: 0.1029 - accuracy: 0.9613\n",
      "Epoch 48/50\n",
      "1875/1875 [==============================] - 4s 2ms/step - loss: 0.1014 - accuracy: 0.9613\n",
      "Epoch 49/50\n",
      "1875/1875 [==============================] - 4s 2ms/step - loss: 0.1017 - accuracy: 0.9612\n",
      "Epoch 50/50\n",
      "1875/1875 [==============================] - 4s 2ms/step - loss: 0.0959 - accuracy: 0.9640\n"
     ]
    },
    {
     "data": {
      "text/plain": [
       "<keras.src.callbacks.History at 0x22b1761dc40>"
      ]
     },
     "execution_count": 19,
     "metadata": {},
     "output_type": "execute_result"
    }
   ],
   "source": [
    "data = tf.keras.datasets.fashion_mnist #! ดึงข้อมูล Fashion MNIST มาจาก Keras\n",
    "\n",
    "(training_image, training_labels), (test_image, test_label) = data.load_data() #!โหลดข้อมูลแล้วแบ่งเป็น 2 ชุด สำหรับฝึกและทดสอบ\n",
    "\n",
    "training_image = training_image / 255.0 #! normalization ขนาดข้อมูล\n",
    "test_image = test_image / 255.0\n",
    "\n",
    "model = tf.keras.models.Sequential([\n",
    "    tf.keras.layers.Flatten(input_shape=(28, 28)), #! แปลงอาเรย์ 2 มิติให้เป็น 1 มิติ\n",
    "    tf.keras.layers.Dense(128, activation=\"relu\"), #! relu คืนค่าบวกเมื่อผลลัพธ์มากกว่า 0 หากติดลบ คืนค่า 0\n",
    "    tf.keras.layers.Dense(10, activation=\"softmax\") #! คืนค่าความน่าจะเป็นของแต่ละคลาส เลือกมากสุด\n",
    "])\n",
    "\n",
    "model.compile(optimizer='adam',loss='sparse_categorical_crossentropy',metrics=['accuracy'])\n",
    "model.fit(training_image, training_labels, epochs=50)"
   ]
  },
  {
   "cell_type": "code",
   "execution_count": 20,
   "metadata": {},
   "outputs": [
    {
     "name": "stdout",
     "output_type": "stream",
     "text": [
      "313/313 [==============================] - 1s 2ms/step - loss: 0.5075 - accuracy: 0.8895\n"
     ]
    },
    {
     "data": {
      "text/plain": [
       "[0.5075384974479675, 0.8895000219345093]"
      ]
     },
     "execution_count": 20,
     "metadata": {},
     "output_type": "execute_result"
    }
   ],
   "source": [
    "model.evaluate(test_image, test_label)"
   ]
  },
  {
   "cell_type": "code",
   "execution_count": 18,
   "metadata": {},
   "outputs": [
    {
     "name": "stdout",
     "output_type": "stream",
     "text": [
      "313/313 [==============================] - 1s 2ms/step\n",
      "[3.7202368e-05 6.1028828e-11 5.0345454e-07 5.2065570e-08 2.9114495e-05\n",
      " 7.5750011e-09 3.6860791e-07 6.6867856e-10 9.9993277e-01 1.4815381e-12]\n",
      "MAX = 0.9999327659606934 and INDEX = 8\n",
      "8\n"
     ]
    }
   ],
   "source": [
    "classifications = model.predict(test_image)\n",
    "index_test = 1564\n",
    "print(classifications[index_test])\n",
    "print(f\"MAX = {max(classifications[index_test])} and INDEX = {classifications[index_test].argmax()}\")\n",
    "print(test_label[index_test])"
   ]
  },
  {
   "cell_type": "code",
   "execution_count": 23,
   "metadata": {},
   "outputs": [
    {
     "name": "stdout",
     "output_type": "stream",
     "text": [
      "Epoch 1/50\n",
      "1875/1875 [==============================] - 5s 2ms/step - loss: 0.4966 - accuracy: 0.8241\n",
      "Epoch 2/50\n",
      "1875/1875 [==============================] - 4s 2ms/step - loss: 0.3740 - accuracy: 0.8646\n",
      "Epoch 3/50\n",
      "1875/1875 [==============================] - 4s 2ms/step - loss: 0.3363 - accuracy: 0.8766\n",
      "Epoch 4/50\n",
      "1875/1875 [==============================] - 5s 3ms/step - loss: 0.3098 - accuracy: 0.8869\n",
      "Epoch 5/50\n",
      "1875/1875 [==============================] - 4s 2ms/step - loss: 0.2923 - accuracy: 0.8904\n",
      "Epoch 6/50\n",
      "1875/1875 [==============================] - 4s 2ms/step - loss: 0.2776 - accuracy: 0.8962\n",
      "Epoch 7/50\n",
      "1875/1875 [==============================] - 4s 2ms/step - loss: 0.2686 - accuracy: 0.9005\n",
      "Epoch 8/50\n",
      "1875/1875 [==============================] - 4s 2ms/step - loss: 0.2552 - accuracy: 0.9054\n",
      "Epoch 9/50\n",
      "1875/1875 [==============================] - 4s 2ms/step - loss: 0.2480 - accuracy: 0.9068\n",
      "Epoch 10/50\n",
      "1875/1875 [==============================] - 4s 2ms/step - loss: 0.2368 - accuracy: 0.9116\n",
      "Epoch 11/50\n",
      "1875/1875 [==============================] - 4s 2ms/step - loss: 0.2292 - accuracy: 0.9147\n",
      "Epoch 12/50\n",
      "1875/1875 [==============================] - 5s 2ms/step - loss: 0.2206 - accuracy: 0.9178\n",
      "Epoch 13/50\n",
      "1875/1875 [==============================] - 5s 2ms/step - loss: 0.2158 - accuracy: 0.9197\n",
      "Epoch 14/50\n",
      "1875/1875 [==============================] - 5s 3ms/step - loss: 0.2084 - accuracy: 0.9216\n",
      "Epoch 15/50\n",
      "1875/1875 [==============================] - 6s 3ms/step - loss: 0.2031 - accuracy: 0.9241\n",
      "Epoch 16/50\n",
      "1875/1875 [==============================] - 6s 3ms/step - loss: 0.1962 - accuracy: 0.9269\n",
      "Epoch 17/50\n",
      "1875/1875 [==============================] - 5s 3ms/step - loss: 0.1928 - accuracy: 0.9276\n",
      "Epoch 18/50\n",
      "1875/1875 [==============================] - 6s 3ms/step - loss: 0.1850 - accuracy: 0.9303\n",
      "Epoch 19/50\n",
      "1875/1875 [==============================] - 6s 3ms/step - loss: 0.1835 - accuracy: 0.9312\n",
      "Epoch 20/50\n",
      "1875/1875 [==============================] - 5s 3ms/step - loss: 0.1752 - accuracy: 0.9349\n",
      "Epoch 21/50\n",
      "1875/1875 [==============================] - 5s 3ms/step - loss: 0.1734 - accuracy: 0.9340\n",
      "Epoch 22/50\n",
      "1875/1875 [==============================] - 6s 3ms/step - loss: 0.1690 - accuracy: 0.9381\n",
      "Epoch 23/50\n",
      "1875/1875 [==============================] - 6s 3ms/step - loss: 0.1665 - accuracy: 0.9390\n",
      "Epoch 24/50\n",
      "1875/1875 [==============================] - 6s 3ms/step - loss: 0.1611 - accuracy: 0.9394\n",
      "Epoch 25/50\n",
      "1875/1875 [==============================] - 7s 4ms/step - loss: 0.1591 - accuracy: 0.9407\n",
      "Epoch 26/50\n",
      "1875/1875 [==============================] - 6s 3ms/step - loss: 0.1535 - accuracy: 0.9430\n",
      "Epoch 27/50\n",
      "1875/1875 [==============================] - 5s 2ms/step - loss: 0.1518 - accuracy: 0.9432\n",
      "Epoch 28/50\n",
      "1875/1875 [==============================] - 5s 2ms/step - loss: 0.1487 - accuracy: 0.9437\n",
      "Epoch 29/50\n",
      "1875/1875 [==============================] - 5s 2ms/step - loss: 0.1451 - accuracy: 0.9453\n",
      "Epoch 30/50\n",
      "1875/1875 [==============================] - 5s 2ms/step - loss: 0.1413 - accuracy: 0.9467\n",
      "Epoch 31/50\n",
      "1875/1875 [==============================] - 5s 2ms/step - loss: 0.1373 - accuracy: 0.9485\n",
      "Epoch 32/50\n",
      "1875/1875 [==============================] - 4s 2ms/step - loss: 0.1354 - accuracy: 0.9490\n",
      "Epoch 33/50\n",
      "1875/1875 [==============================] - 4s 2ms/step - loss: 0.1321 - accuracy: 0.9494\n",
      "Epoch 34/50\n",
      "1861/1875 [============================>.] - ETA: 0s - loss: 0.1317 - accuracy: 0.9515\n",
      "Reached 95% accuracy so cancelling training!\n",
      "1875/1875 [==============================] - 4s 2ms/step - loss: 0.1317 - accuracy: 0.9515\n"
     ]
    },
    {
     "data": {
      "text/plain": [
       "<keras.src.callbacks.History at 0x22b1c3dc8b0>"
      ]
     },
     "execution_count": 23,
     "metadata": {},
     "output_type": "execute_result"
    }
   ],
   "source": [
    "class myCallback(tf.keras.callbacks.Callback):\n",
    "    def on_epoch_end(self, epoch, logs={}):\n",
    "        if(logs.get('accuracy')>0.95):\n",
    "            print(\"\\nReached 95% accuracy so cancelling training!\")\n",
    "            self.model.stop_training = True\n",
    "\n",
    "callbacks = myCallback()\n",
    "model2 = Sequential([\n",
    "    Flatten(input_shape=(28, 28)),\n",
    "    Dense(128, activation='relu'),\n",
    "    Dense(10, activation='softmax')\n",
    "])\n",
    "\n",
    "model2.compile(optimizer='adam', loss='sparse_categorical_crossentropy', metrics=['accuracy'])\n",
    "model2.fit(training_image, training_labels, epochs=50, callbacks=[callbacks])"
   ]
  }
 ],
 "metadata": {
  "kernelspec": {
   "display_name": "venv",
   "language": "python",
   "name": "python3"
  },
  "language_info": {
   "codemirror_mode": {
    "name": "ipython",
    "version": 3
   },
   "file_extension": ".py",
   "mimetype": "text/x-python",
   "name": "python",
   "nbconvert_exporter": "python",
   "pygments_lexer": "ipython3",
   "version": "3.9.1"
  },
  "orig_nbformat": 4
 },
 "nbformat": 4,
 "nbformat_minor": 2
}
